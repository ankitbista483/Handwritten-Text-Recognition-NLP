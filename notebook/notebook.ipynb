{
 "cells": [
  {
   "cell_type": "code",
   "execution_count": 2,
   "metadata": {},
   "outputs": [],
   "source": [
    "import cv2 as cv"
   ]
  },
  {
   "cell_type": "code",
   "execution_count": 16,
   "metadata": {},
   "outputs": [
    {
     "name": "stdout",
     "output_type": "stream",
     "text": [
      "Error: The file notebook/eng_AF_004.jpg does not exist or is not a valid file.\n"
     ]
    }
   ],
   "source": [
    "import cv2 as cv\n",
    "import os\n",
    "\n",
    "# Define the path to your image\n",
    "image_path = 'notebook/eng_AF_004.jpg'  # Replace with your image path\n",
    "\n",
    "# Check if the file exists\n",
    "if not os.path.isfile(image_path):\n",
    "    print(f\"Error: The file {image_path} does not exist or is not a valid file.\")\n",
    "else:\n",
    "    # Load the image\n",
    "    img = cv.imread(image_path)\n",
    "\n",
    "    # Check if the image was loaded correctly\n",
    "    if img is None:\n",
    "        print(f\"Error: Failed to load image from {image_path}. This may be due to an unsupported image format.\")\n",
    "    else:\n",
    "        # Display the image in a window\n",
    "        cv.imshow('Loaded Image', img)\n",
    "\n",
    "        # Wait for a key press indefinitely or for a specific amount of time\n",
    "        cv.waitKey(0)  # 0 means wait indefinitely until a key is pressed\n",
    "\n",
    "        # Destroy all OpenCV windows (close the image window)\n",
    "        cv.destroyAllWindows()\n"
   ]
  },
  {
   "cell_type": "code",
   "execution_count": 18,
   "metadata": {},
   "outputs": [
    {
     "name": "stdout",
     "output_type": "stream",
     "text": [
      "4.11.0\n"
     ]
    }
   ],
   "source": [
    "import cv2\n",
    "print(cv2.__version__)\n"
   ]
  },
  {
   "cell_type": "code",
   "execution_count": 21,
   "metadata": {},
   "outputs": [
    {
     "name": "stdout",
     "output_type": "stream",
     "text": [
      "Error: Failed to open image at notebook/eng_AF_004.jpg\n"
     ]
    }
   ],
   "source": [
    "from PIL import Image\n",
    "import matplotlib.pyplot as plt\n",
    "\n",
    "# Try using the same image path\n",
    "image_path = 'notebook/eng_AF_004.jpg'\n",
    "\n",
    "# Open image using PIL\n",
    "try:\n",
    "    img = Image.open(image_path)\n",
    "    plt.imshow(img)\n",
    "    plt.axis('off')  # Hide axes for better visualization\n",
    "    plt.show()\n",
    "except IOError:\n",
    "    print(f\"Error: Failed to open image at {image_path}\")\n"
   ]
  },
  {
   "cell_type": "code",
   "execution_count": 24,
   "metadata": {},
   "outputs": [
    {
     "name": "stdout",
     "output_type": "stream",
     "text": [
      "Error: The file notebook/eng_AF_004 copy.jpeg does not exist.\n"
     ]
    }
   ],
   "source": [
    "import cv2 as cv\n",
    "import os\n",
    "\n",
    "image_path = 'notebook/eng_AF_004 copy.jpeg' # Replace with the correct path\n",
    "\n",
    "# Check if the file exists\n",
    "if not os.path.isfile(image_path):\n",
    "    print(f\"Error: The file {image_path} does not exist.\")\n",
    "else:\n",
    "    img = cv.imread(image_path)\n",
    "    if img is None:\n",
    "        print(\"Error: Unable to load image.\")\n",
    "    else:\n",
    "        print(\"Image loaded successfully!\")\n"
   ]
  }
 ],
 "metadata": {
  "kernelspec": {
   "display_name": "Python 3",
   "language": "python",
   "name": "python3"
  },
  "language_info": {
   "codemirror_mode": {
    "name": "ipython",
    "version": 3
   },
   "file_extension": ".py",
   "mimetype": "text/x-python",
   "name": "python",
   "nbconvert_exporter": "python",
   "pygments_lexer": "ipython3",
   "version": "3.11.4"
  },
  "orig_nbformat": 4
 },
 "nbformat": 4,
 "nbformat_minor": 2
}
